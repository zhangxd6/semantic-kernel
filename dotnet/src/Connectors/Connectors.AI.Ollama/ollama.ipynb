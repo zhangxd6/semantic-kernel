{
 "cells": [
  {
   "cell_type": "code",
   "execution_count": 1,
   "metadata": {
    "dotnet_interactive": {
     "language": "csharp"
    },
    "polyglot_notebook": {
     "kernelName": "csharp"
    },
    "vscode": {
     "languageId": "polyglot-notebook"
    }
   },
   "outputs": [
    {
     "data": {
      "text/html": [
       "<div><div></div><div></div><div><strong>Installed Packages</strong><ul><li><span>Microsoft.SemanticKernel.Abstractions, 1.0.0-beta9</span></li><li><span>Microsoft.SemanticKernel.Connectors.AI.Ollama, 1.0.0-beta9</span></li><li><span>Microsoft.SemanticKernel.Core, 1.0.0-beta9</span></li><li><span>Microsoft.SemanticKernel.Plugins.Core, 1.0.0-beta9</span></li><li><span>Microsoft.SemanticKernel.Plugins.Memory, 1.0.0-beta9</span></li></ul></div></div>"
      ]
     },
     "metadata": {},
     "output_type": "display_data"
    }
   ],
   "source": [
    "#r \"nuget: Microsoft.SemanticKernel.Core, 1.0.0-beta9\"\n",
    "#r \"nuget: Microsoft.SemanticKernel.Abstractions, 1.0.0-beta9\"\n",
    "#r \"nuget: Microsoft.SemanticKernel.Connectors.AI.Ollama, 1.0.0-beta9\"\n",
    "#r \"nuget: Microsoft.SemanticKernel.Plugins.Core, 1.0.0.0-beta9\"\n",
    "#r \"nuget: Microsoft.SemanticKernel.Plugins.Memory, 1.0.0.0-beta9\"\n",
    "\n",
    "using Microsoft.SemanticKernel;\n",
    "using Microsoft.SemanticKernel.Orchestration;\n",
    "\n",
    "var kernelBuilder = new KernelBuilder();\n",
    "\n",
    "kernelBuilder.WithOllamaTextEmbeddingGenerationService(\"llama2\",\"http://host.docker.internal:11434\");\n",
    "\n",
    "var ollama = kernelBuilder.Build();"
   ]
  },
  {
   "cell_type": "code",
   "execution_count": 2,
   "metadata": {
    "dotnet_interactive": {
     "language": "csharp"
    },
    "polyglot_notebook": {
     "kernelName": "csharp"
    },
    "vscode": {
     "languageId": "polyglot-notebook"
    }
   },
   "outputs": [],
   "source": [
    "using Microsoft.SemanticKernel.Plugins.Memory;\n",
    "using Microsoft.SemanticKernel.Connectors.AI.Ollama;\n",
    "\n",
    "var memoryBuilder = new MemoryBuilder();\n",
    "\n",
    "memoryBuilder.WithOllamaTextEmbeddingGenerationService(\"llama2\",\"http://host.docker.internal:11434\");\n",
    "memoryBuilder.WithMemoryStore(new VolatileMemoryStore());\n",
    "\n",
    "var memory = memoryBuilder.Build();\n",
    "const string MemoryCollectionName = \"aboutMe\";\n",
    "\n",
    "await memory.SaveInformationAsync(MemoryCollectionName, id: \"info1\", text: \"My name is Andrea\");\n",
    "await memory.SaveInformationAsync(MemoryCollectionName, id: \"info2\", text: \"I currently work as a tourist operator\");\n",
    "await memory.SaveInformationAsync(MemoryCollectionName, id: \"info3\", text: \"I currently live in Seattle and have been living there since 2005\");\n",
    "await memory.SaveInformationAsync(MemoryCollectionName, id: \"info4\", text: \"I visited France and Italy five times since 2015\");\n",
    "await memory.SaveInformationAsync(MemoryCollectionName, id: \"info5\", text: \"My family is from New York\");"
   ]
  },
  {
   "cell_type": "code",
   "execution_count": 7,
   "metadata": {
    "dotnet_interactive": {
     "language": "csharp"
    },
    "polyglot_notebook": {
     "kernelName": "csharp"
    },
    "vscode": {
     "languageId": "polyglot-notebook"
    }
   },
   "outputs": [
    {
     "data": {
      "text/html": [
       "<div><div></div><div></div><div><strong>Installed Packages</strong><ul><li><span>System.Linq.Async, 6.0.1</span></li></ul></div></div>"
      ]
     },
     "metadata": {},
     "output_type": "display_data"
    },
    {
     "name": "stdout",
     "output_type": "stream",
     "text": [
      "what is my name? {}My name is Andrea <->0.12587423622608185\n",
      "where do I live? {}My name is Andrea <->0.1460714340209961\n",
      "where is my family from? {}My family is from New York <->0.2293102890253067\n",
      "where have I travelled? {}I currently live in Seattle and have been living there since 2005 <->0.41490715742111206\n",
      "what do I do for work? {}I currently live in Seattle and have been living there since 2005 <->0.5153414011001587\n"
     ]
    }
   ],
   "source": [
    "\n",
    "\n",
    "#r \"nuget: System.Linq.Async, 6.0.1\"\n",
    "\n",
    "\n",
    "var questions = new[]\n",
    "{\n",
    "    \"what is my name?\",\n",
    "    \"where do I live?\",\n",
    "    \"where is my family from?\",\n",
    "    \"where have I travelled?\",\n",
    "    \"what do I do for work?\",\n",
    "};\n",
    "\n",
    "foreach (var q in questions)\n",
    "{\n",
    "    var response = await memory.SearchAsync(MemoryCollectionName, q, minRelevanceScore:0).FirstOrDefaultAsync();\n",
    "    Console.WriteLine(q + \" {}\" + response.Metadata.Text + \" <->\"+ response.Relevance);\n",
    "}"
   ]
  }
 ],
 "metadata": {
  "kernelspec": {
   "display_name": "Python 3",
   "language": "python",
   "name": "python3"
  },
  "language_info": {
   "codemirror_mode": {
    "name": "ipython",
    "version": 3
   },
   "file_extension": ".py",
   "mimetype": "text/x-python",
   "name": "python",
   "nbconvert_exporter": "python",
   "pygments_lexer": "ipython3",
   "version": "3.10.13"
  }
 },
 "nbformat": 4,
 "nbformat_minor": 2
}
